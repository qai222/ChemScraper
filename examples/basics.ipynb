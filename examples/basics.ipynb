{
 "cells": [
  {
   "cell_type": "code",
   "execution_count": 1,
   "metadata": {
    "collapsed": true
   },
   "outputs": [
    {
     "name": "stdout",
     "output_type": "stream",
     "text": [
      "('Sigma-Aldrich', 'Thermo Fisher Scientific')\n"
     ]
    }
   ],
   "source": [
    "# import everything\n",
    "from ChemScraper import *\n",
    "# what are the known vendors?\n",
    "print(VendorSources)"
   ]
  },
  {
   "cell_type": "code",
   "execution_count": 2,
   "outputs": [
    {
     "name": "stderr",
     "output_type": "stream",
     "text": [
      "2022-08-12 22:26:32.341 | INFO     | ChemScraper.pubchem.entrez:download_vendor_compounds:94 - esearch for vendors: ('Sigma-Aldrich',)\n",
      "2022-08-12 22:26:32.342 | INFO     | ChemScraper.pubchem.entrez:request_entrez_query:33 - request URL: https://eutils.ncbi.nlm.nih.gov/entrez/eutils/esearch.fcgi?db=pccompound&term=\"has src vendor\"[Filter] AND (\"Sigma-Aldrich\"[SourceName])&retstart=0&retmax=10&retmode=json&usehistory=y\n",
      "2022-08-12 22:26:32.805 | INFO     | ChemScraper.pubchem.entrez:download_vendor_compounds:99 - esearch success!\n",
      "2022-08-12 22:26:32.825 | INFO     | ChemScraper.pubchem.entrez:download_vendor_compounds:101 - esearch saved at: https://eutils.ncbi.nlm.nih.gov/entrez/eutils/esearch.fcgi?db=pccompound&query_key=1&webenv=MCID_62f70bd776b066770b6add2a\n",
      "2022-08-12 22:26:32.837 | INFO     | ChemScraper.pubchem.entrez:download_vendor_compounds:103 - esearch count: 249006\n",
      "2022-08-12 22:26:34.229 | INFO     | ChemScraper.pubchem.entrez:download_vendor_compounds:105 - esearch converted to cache key at: https://pubchem.ncbi.nlm.nih.gov//#query=MXaUopDA9XzCVvdPdTe-Y3hcljzwKKCq2o-75sGeqefBh5U\n",
      "2022-08-12 22:26:34.230 | INFO     | ChemScraper.pubchem.entrez:sdq_download_csv_with_cachekey:74 - download from URL: https://pubchem.ncbi.nlm.nih.gov/sdq/sdqagent.cgi?infmt=json&outfmt=csv&query={\"download\":\"cid,mw,isosmiles\",\"collection\":\"compound\",\"where\":{\"ands\":[{\"input\":{\"type\":\"netcachekey\",\"idtype\":\"cid\",\"key\":\"MXaUopDA9XzCVvdPdTe-Y3hcljzwKKCq2o-75sGeqefBh5U\"}}]},\"order\":[\"relevancescore,desc\"],\"start\":1,\"limit\":10,\"downloadfilename\":\"PubChem_compound\"}\n",
      "compound_sigma.csv: 8.19kB [00:00, 11.9kB/s]"
     ]
    },
    {
     "name": "stdout",
     "output_type": "stream",
     "text": [
      "         cid      mw                                          isosmiles\n",
      "0  146027892  289.40  C[C@@H]1CC[C@@H](C(C1)C(=O)NC2=CC=C(C=C2)OC)C(C)C\n",
      "1  137315585  178.20                        [Li+].C1CCOC1.C1CCOC1.[Al-]\n",
      "2  137313644  415.30  CC1=CC(=C(C=C1)/C=C(\\\\C)/C(=O)N=C(N)N)/C=C(\\\\C...\n",
      "3  137243236  385.40  C1=CC=C(C=C1)N2C=C(C(=N2)C3=CC=C(C=C3)[N+](=O)...\n",
      "4  137243235  402.40  C1=CC2=C(C(=C1)N=NC3=C4C=CC=NC4=C(C=C3)O)C(=CC...\n",
      "5  137243234  307.40  C1=CC=C(C=C1)/C=C/2\\\\C(=O)N/C(=N\\\\N=C\\\\C3=CC=C...\n",
      "6  137243233  418.90  C1=CC=C(C=C1)C[N+]2=CC=CC(=C2)C(=O)N/N=C/C3=C(...\n",
      "7  137243232  491.40  C1=CC=C(C=C1)C(=O)C[N+]2=CC=CC(=C2)C(=O)N/N=C/...\n",
      "8  137243231  471.30  COC1=CC=C(C=C1)C(=O)C[N+]2=CC=CC(=C2)C(=O)N/N=...\n",
      "9  137243230  322.76  C1=CC=C(C(=C1)/C=N/NC(=O)C2=CC=[N+](C=C2)CCO)O.Cl\n"
     ]
    },
    {
     "name": "stderr",
     "output_type": "stream",
     "text": [
      "\n"
     ]
    }
   ],
   "source": [
    "# Find compounds in PubChem that are likely purchasable\n",
    "# One way is to find records deposited by chemical vendors\n",
    "import pandas as pd\n",
    "compound_sigma_csv = \"compound_sigma.csv\"\n",
    "download_vendor_compounds((VendorSources[0],), saveas=compound_sigma_csv, count_limit=10)  # only download 10 entries\n",
    "df_compound_sigma = pd.read_csv('compound_sigma.csv')\n",
    "print(df_compound_sigma)"
   ],
   "metadata": {
    "collapsed": false,
    "pycharm": {
     "name": "#%%\n"
    }
   }
  },
  {
   "cell_type": "code",
   "execution_count": 3,
   "outputs": [
    {
     "name": "stdout",
     "output_type": "stream",
     "text": [
      "{'Sigma-Aldrich': 'https://www.sigmaaldrich.com/catalog/product/aldrich/r358797'}\n"
     ]
    }
   ],
   "source": [
    "# from `CID` we can get chemical vendor links stored in PubChem\n",
    "compound_id = 137243230  # pubchem CID\n",
    "vendor_links = get_vendor_links(compound_id)\n",
    "print(vendor_links)"
   ],
   "metadata": {
    "collapsed": false,
    "pycharm": {
     "name": "#%%\n"
    }
   }
  },
  {
   "cell_type": "code",
   "execution_count": 4,
   "outputs": [
    {
     "name": "stderr",
     "output_type": "stream",
     "text": [
      "2022-08-12 22:26:36.213 | INFO     | ChemScraper.vscraper.sigma_aldrich:get_sigma_aldrich_patable:22 - sigma-aldrich product url: https://www.sigmaaldrich.com/catalog/product/aldrich/r358797\n",
      "2022-08-12 22:26:39.862 | INFO     | ChemScraper.vscraper.sigma_aldrich:get_sigma_aldrich_patable:27 - page ready after: 0.016 s\n"
     ]
    },
    {
     "name": "stdout",
     "output_type": "stream",
     "text": [
      "           SKU Pack Size                                       Availability  \\\n",
      "0  R358797-5MG            Usually ships in 2 business days. (Orders outs...   \n",
      "\n",
      "    Price Quantity                                                url  \n",
      "0  $28.60           https://www.sigmaaldrich.com/catalog/product/a...  \n"
     ]
    }
   ],
   "source": [
    "# use this link we can scrape sigma-aldrich website for pricing info\n",
    "# `patable` is the table for price and availability, this may change based on your location\n",
    "from ChemScraper.vscraper import get_chrome_driver\n",
    "browser_driver = get_chrome_driver(headless=True)\n",
    "sigma_patable = get_sigma_aldrich_patable(browser_driver, vendor_links['Sigma-Aldrich'])\n",
    "print(sigma_patable)"
   ],
   "metadata": {
    "collapsed": false,
    "pycharm": {
     "name": "#%%\n"
    }
   }
  },
  {
   "cell_type": "code",
   "execution_count": 5,
   "outputs": [
    {
     "name": "stdout",
     "output_type": "stream",
     "text": [
      "{'@module': 'ChemScraper.schema', '@class': 'Compound', '@version': None, 'cid': 3301, 'smiles': 'C(CN)N', 'inchi': 'InChI=1S/C2H8N2/c3-1-2-4/h1-4H2', 'iupac': 'ethane-1,2-diamine', 'properties': {}}\n",
      "107-15-3\n"
     ]
    }
   ],
   "source": [
    "# the problems of starting with a PubChem compound record are\n",
    "# 1. the vendor link stored there maybe outdated\n",
    "# 2. there can be different products correspond to one compound (package size, purity, etc.)\n",
    "# so it's better to start a new search directly through the vendor with a CAS number\n",
    "compound = identify_compound('C(CN)N', 'smiles')\n",
    "cas_number = get_cas_number(compound.cid)  # for uncommon chemicals without a CAS number this method returns None\n",
    "print(compound.as_dict())\n",
    "print(cas_number)"
   ],
   "metadata": {
    "collapsed": false,
    "pycharm": {
     "name": "#%%\n"
    }
   }
  },
  {
   "cell_type": "code",
   "execution_count": 6,
   "outputs": [
    {
     "name": "stderr",
     "output_type": "stream",
     "text": [
      "2022-08-12 22:26:41.076 | INFO     | ChemScraper.vscraper.sigma_aldrich:get_sigma_aldrich_patables:46 - sigma-aldrich search url: https://www.sigmaaldrich.com/US/en/search/107-15-3?focus=products&page=1&perpage=30&sort=relevance&term=107-15-3&type=cas_number\n",
      "2022-08-12 22:26:43.764 | INFO     | ChemScraper.vscraper.sigma_aldrich:get_sigma_aldrich_patables:52 - page ready after: 0.234 s\n",
      "2022-08-12 22:26:43.865 | INFO     | ChemScraper.vscraper.sigma_aldrich:get_sigma_aldrich_patable:22 - sigma-aldrich product url: https://www.sigmaaldrich.com/US/en/product/sial/e26266\n",
      "2022-08-12 22:26:46.780 | INFO     | ChemScraper.vscraper.sigma_aldrich:get_sigma_aldrich_patable:27 - page ready after: 0.208 s\n",
      "2022-08-12 22:26:47.600 | INFO     | ChemScraper.vscraper.sigma_aldrich:get_sigma_aldrich_patable:22 - sigma-aldrich product url: https://www.sigmaaldrich.com/US/en/product/sial/03550\n",
      "2022-08-12 22:26:50.235 | INFO     | ChemScraper.vscraper.sigma_aldrich:get_sigma_aldrich_patable:27 - page ready after: 0.020 s\n",
      "2022-08-12 22:26:50.881 | INFO     | ChemScraper.vscraper.sigma_aldrich:get_sigma_aldrich_patable:22 - sigma-aldrich product url: https://www.sigmaaldrich.com/US/en/product/mm/800947\n",
      "2022-08-12 22:26:53.881 | INFO     | ChemScraper.vscraper.sigma_aldrich:get_sigma_aldrich_patable:27 - page ready after: 0.129 s\n",
      "2022-08-12 22:26:54.616 | INFO     | ChemScraper.vscraper.sigma_aldrich:get_sigma_aldrich_patable:22 - sigma-aldrich product url: https://www.sigmaaldrich.com/US/en/product/aldrich/391085\n",
      "2022-08-12 22:26:57.384 | INFO     | ChemScraper.vscraper.sigma_aldrich:get_sigma_aldrich_patable:27 - page ready after: 0.028 s\n",
      "2022-08-12 22:26:57.860 | INFO     | ChemScraper.vscraper.sigma_aldrich:get_sigma_aldrich_patable:22 - sigma-aldrich product url: https://www.sigmaaldrich.com/US/en/product/sigma/e1521\n",
      "2022-08-12 22:27:00.749 | INFO     | ChemScraper.vscraper.sigma_aldrich:get_sigma_aldrich_patable:27 - page ready after: 0.036 s\n",
      "2022-08-12 22:27:01.290 | INFO     | ChemScraper.vscraper.sigma_aldrich:get_sigma_aldrich_patable:22 - sigma-aldrich product url: https://www.sigmaaldrich.com/US/en/product/sial/41008\n",
      "2022-08-12 22:27:04.535 | INFO     | ChemScraper.vscraper.sigma_aldrich:get_sigma_aldrich_patable:27 - page ready after: 0.048 s\n",
      "2022-08-12 22:27:04.903 | INFO     | ChemScraper.vscraper.sigma_aldrich:get_sigma_aldrich_patable:22 - sigma-aldrich product url: https://www.sigmaaldrich.com/US/en/product/aldrich/15068\n",
      "2022-08-12 22:27:07.859 | INFO     | ChemScraper.vscraper.sigma_aldrich:get_sigma_aldrich_patable:27 - page ready after: 0.056 s\n",
      "2022-08-12 22:27:08.251 | INFO     | ChemScraper.vscraper.sigma_aldrich:get_sigma_aldrich_patable:22 - sigma-aldrich product url: https://www.sigmaaldrich.com/US/en/product/sial/e1649\n",
      "2022-08-12 22:27:10.921 | INFO     | ChemScraper.vscraper.sigma_aldrich:get_sigma_aldrich_patable:27 - page ready after: 0.046 s\n",
      "2022-08-12 22:27:11.412 | INFO     | ChemScraper.vscraper.sigma_aldrich:get_sigma_aldrich_patable:22 - sigma-aldrich product url: https://www.sigmaaldrich.com/US/en/product/aldrich/900537\n",
      "2022-08-12 22:27:19.552 | CRITICAL | ChemScraper.vscraper.sigma_aldrich:get_sigma_aldrich_patables:63 - FAILED to extract patable: https://www.sigmaaldrich.com/US/en/product/aldrich/900537\n",
      "2022-08-12 22:27:19.554 | INFO     | ChemScraper.vscraper.sigma_aldrich:get_sigma_aldrich_patables:67 - sigma-aldrich search returns # of products: 8\n"
     ]
    },
    {
     "name": "stdout",
     "output_type": "stream",
     "text": [
      "               SKU   Pack Size  \\\n",
      "0       E26266-5ML        5 ML   \n",
      "1     E26266-100ML      100 ML   \n",
      "2        E26266-1L         1 L   \n",
      "3      E26266-2.5L       2.5 L   \n",
      "4   E26266-4X100ML  4 X 100 ML   \n",
      "5      03550-250ML      250 ML   \n",
      "6         03550-1L         1 L   \n",
      "7       03550-2.5L       2.5 L   \n",
      "8       8009470100      100 ML   \n",
      "9       8009470500      500 ML   \n",
      "10      8009471000         1 L   \n",
      "11      8009472500       2.5 L   \n",
      "12      8009479051        50 L   \n",
      "13    391085-100ML      100 ML   \n",
      "14       391085-1L         1 L   \n",
      "15     E1521-250ML      250 ML   \n",
      "16        E1521-1L         1 L   \n",
      "17     41008-1ML-F        1 ML   \n",
      "18        15068-1L         1 L   \n",
      "19     E1649-250ML      250 ML   \n",
      "20        E1649-1L         1 L   \n",
      "\n",
      "                                         Availability      Price Quantity  \\\n",
      "0    Estimated to ship on August 15, 2022\\nDetails...     $36.20            \n",
      "1    Estimated to ship on August 14, 2022\\nDetails...     $47.70            \n",
      "2    Estimated to ship on August 15, 2022\\nDetails...     $60.70            \n",
      "3    Estimated to ship on August 15, 2022\\nDetails...    $141.00            \n",
      "4    Estimated to ship on August 14, 2022\\nDetails...    $147.00            \n",
      "5    Estimated to ship on August 14, 2022\\nDetails...     $70.70            \n",
      "6    Estimated to ship on August 15, 2022\\nDetails...    $143.00            \n",
      "7             Estimated to ship on September 05, 2022    $240.00            \n",
      "8                Estimated to ship on August 16, 2022     $33.70            \n",
      "9                Estimated to ship on August 16, 2022     $39.20            \n",
      "10  Only 1 left in stock (more on the way)\\nDetail...     $70.20            \n",
      "11               Estimated to ship on August 16, 2022    $129.00            \n",
      "12              Estimated to ship on October 03, 2022  $2,260.00            \n",
      "13   Estimated to ship on August 15, 2022\\nDetails...     $91.10            \n",
      "14  Only 1 left in stock (more on the way)\\nDetail...    $380.00            \n",
      "15              Estimated to ship on October 08, 2022     $54.40            \n",
      "16   Estimated to ship on August 15, 2022\\nDetails...    $119.00            \n",
      "17   Estimated to ship on August 15, 2022\\nDetails...     $28.30            \n",
      "18            Estimated to ship on September 05, 2022     $72.50            \n",
      "19   Estimated to ship on August 15, 2022\\nDetails...     $32.30            \n",
      "20             Estimated to ship on November 08, 2022     $87.90            \n",
      "\n",
      "                                                  url  \n",
      "0   https://www.sigmaaldrich.com/US/en/product/sia...  \n",
      "1   https://www.sigmaaldrich.com/US/en/product/sia...  \n",
      "2   https://www.sigmaaldrich.com/US/en/product/sia...  \n",
      "3   https://www.sigmaaldrich.com/US/en/product/sia...  \n",
      "4   https://www.sigmaaldrich.com/US/en/product/sia...  \n",
      "5   https://www.sigmaaldrich.com/US/en/product/sia...  \n",
      "6   https://www.sigmaaldrich.com/US/en/product/sia...  \n",
      "7   https://www.sigmaaldrich.com/US/en/product/sia...  \n",
      "8   https://www.sigmaaldrich.com/US/en/product/mm/...  \n",
      "9   https://www.sigmaaldrich.com/US/en/product/mm/...  \n",
      "10  https://www.sigmaaldrich.com/US/en/product/mm/...  \n",
      "11  https://www.sigmaaldrich.com/US/en/product/mm/...  \n",
      "12  https://www.sigmaaldrich.com/US/en/product/mm/...  \n",
      "13  https://www.sigmaaldrich.com/US/en/product/ald...  \n",
      "14  https://www.sigmaaldrich.com/US/en/product/ald...  \n",
      "15  https://www.sigmaaldrich.com/US/en/product/sig...  \n",
      "16  https://www.sigmaaldrich.com/US/en/product/sig...  \n",
      "17  https://www.sigmaaldrich.com/US/en/product/sia...  \n",
      "18  https://www.sigmaaldrich.com/US/en/product/ald...  \n",
      "19  https://www.sigmaaldrich.com/US/en/product/sia...  \n",
      "20  https://www.sigmaaldrich.com/US/en/product/sia...  \n"
     ]
    }
   ],
   "source": [
    "# now we can use the search page to get all available products of the same CAS,\n",
    "# then extract their prices and availabilities\n",
    "# this is wrapped in the following function\n",
    "df_pa = get_sigma_aldrich_patables(browser_driver, cas_number)\n",
    "print(df_pa)"
   ],
   "metadata": {
    "collapsed": false,
    "pycharm": {
     "name": "#%%\n"
    }
   }
  },
  {
   "cell_type": "code",
   "execution_count": 7,
   "outputs": [
    {
     "name": "stderr",
     "output_type": "stream",
     "text": [
      "2022-08-12 22:27:19.601 | INFO     | ChemScraper.vscraper.thermo_fisher:get_thermo_fisher_patables_in_search:19 - getting searching url: https://www.fishersci.com/us/en/catalog/search/products?keyword=107-15-3\n",
      "2022-08-12 22:27:22.408 | INFO     | ChemScraper.vscraper.thermo_fisher:get_thermo_fisher_patables_in_search:29 - using quick view from search results\n",
      "2022-08-12 22:27:22.409 | INFO     | ChemScraper.vscraper.thermo_fisher:get_thermo_fisher_patables_in_search:33 - clicking quick view button...\n",
      "2022-08-12 22:27:24.209 | INFO     | ChemScraper.vscraper.thermo_fisher:get_thermo_fisher_patables_in_search:72 - parsed quick view table in: 1.800 s\n"
     ]
    },
    {
     "name": "stdout",
     "output_type": "stream",
     "text": [
      "                                         product_url  \\\n",
      "0  https://www.fishersci.com/shop/products/ethyle...   \n",
      "1  https://www.fishersci.com/shop/products/ethyle...   \n",
      "2  https://www.fishersci.com/shop/products/ethyle...   \n",
      "3  https://www.fishersci.com/shop/products/ethyle...   \n",
      "\n",
      "                                             sds_url   Mfr. No.  Quantity  \\\n",
      "0  https://www.fishersci.com/store/msds?partNumbe...   A121320F    2500mL   \n",
      "1  https://www.fishersci.com/store/msds?partNumbe...   A12132AE     100mL   \n",
      "2  https://www.fishersci.com/store/msds?partNumbe...   A12132AP     500mL   \n",
      "3  https://www.fishersci.com/store/msds?partNumbe...  A12132DLS  4 x 2.5L   \n",
      "\n",
      "           Price Quantity        Availability               \n",
      "0  $107.90\\nEach           Check Availability  Add to Cart  \n",
      "1   $22.90\\nEach      N/A                                   \n",
      "2   $34.85\\nEach      N/A                                   \n",
      "3            N/A      N/A                                   \n"
     ]
    }
   ],
   "source": [
    "# we can also get price info from thermo-fisher using CAS number\n",
    "# (no availability info so far, will be included in the future...)\n",
    "df_price_fisher = get_thermo_fisher_patables_in_search(browser_driver, cas_number, use_quickview=True, max_results=1)\n",
    "print(df_price_fisher)"
   ],
   "metadata": {
    "collapsed": false,
    "pycharm": {
     "name": "#%%\n"
    }
   }
  }
 ],
 "metadata": {
  "kernelspec": {
   "display_name": "Python 3",
   "language": "python",
   "name": "python3"
  },
  "language_info": {
   "codemirror_mode": {
    "name": "ipython",
    "version": 2
   },
   "file_extension": ".py",
   "mimetype": "text/x-python",
   "name": "python",
   "nbconvert_exporter": "python",
   "pygments_lexer": "ipython2",
   "version": "2.7.6"
  }
 },
 "nbformat": 4,
 "nbformat_minor": 0
}
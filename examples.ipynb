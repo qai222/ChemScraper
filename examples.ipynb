{
 "cells": [
  {
   "cell_type": "code",
   "execution_count": 1,
   "metadata": {
    "collapsed": true
   },
   "outputs": [
    {
     "name": "stdout",
     "output_type": "stream",
     "text": [
      "('Sigma-Aldrich', 'Thermo Fisher Scientific')\n"
     ]
    }
   ],
   "source": [
    "# import everything\n",
    "from ChemScraper import *\n",
    "# what are the known vendors?\n",
    "print(VendorSources)"
   ]
  },
  {
   "cell_type": "code",
   "execution_count": 2,
   "outputs": [
    {
     "name": "stderr",
     "output_type": "stream",
     "text": [
      "2022-08-08 07:07:53.740 | INFO     | ChemScraper.pubchem.entrez:download_vendor_compounds:94 - esearch for vendors: ('Sigma-Aldrich',)\n",
      "2022-08-08 07:07:53.741 | INFO     | ChemScraper.pubchem.entrez:request_entrez_query:33 - request URL: https://eutils.ncbi.nlm.nih.gov/entrez/eutils/esearch.fcgi?db=pccompound&term=\"has src vendor\"[Filter] AND (\"Sigma-Aldrich\"[SourceName])&retstart=0&retmax=10&retmode=json&usehistory=y\n",
      "2022-08-08 07:07:54.078 | INFO     | ChemScraper.pubchem.entrez:download_vendor_compounds:99 - esearch success!\n",
      "2022-08-08 07:07:54.079 | INFO     | ChemScraper.pubchem.entrez:download_vendor_compounds:101 - esearch saved at: https://eutils.ncbi.nlm.nih.gov/entrez/eutils/esearch.fcgi?db=pccompound&query_key=1&webenv=MCID_62f0ee880f483d51d80c8b58\n",
      "2022-08-08 07:07:54.080 | INFO     | ChemScraper.pubchem.entrez:download_vendor_compounds:103 - esearch count: 249006\n",
      "2022-08-08 07:07:55.092 | INFO     | ChemScraper.pubchem.entrez:download_vendor_compounds:105 - esearch converted to cache key at: https://pubchem.ncbi.nlm.nih.gov//#query=9rFT5M3hqF2fd6puKBbjQiKYnPgxWeEsmwn6YIAY6GGAAdQ\n",
      "2022-08-08 07:07:55.092 | INFO     | ChemScraper.pubchem.entrez:sdq_download_csv_with_cachekey:74 - download from URL: https://pubchem.ncbi.nlm.nih.gov/sdq/sdqagent.cgi?infmt=json&outfmt=csv&query={\"download\":\"cid,mw,isosmiles\",\"collection\":\"compound\",\"where\":{\"ands\":[{\"input\":{\"type\":\"netcachekey\",\"idtype\":\"cid\",\"key\":\"9rFT5M3hqF2fd6puKBbjQiKYnPgxWeEsmwn6YIAY6GGAAdQ\"}}]},\"order\":[\"relevancescore,desc\"],\"start\":1,\"limit\":10,\"downloadfilename\":\"PubChem_compound\"}\n",
      "compound_sigma.csv: 8.19kB [00:00, 13.6kB/s]"
     ]
    },
    {
     "name": "stdout",
     "output_type": "stream",
     "text": [
      "         cid      mw                                          isosmiles\n",
      "0  146027892  289.40  C[C@@H]1CC[C@@H](C(C1)C(=O)NC2=CC=C(C=C2)OC)C(C)C\n",
      "1  137315585  178.20                        [Li+].C1CCOC1.C1CCOC1.[Al-]\n",
      "2  137313644  415.30  CC1=CC(=C(C=C1)/C=C(\\\\C)/C(=O)N=C(N)N)/C=C(\\\\C...\n",
      "3  137243236  385.40  C1=CC=C(C=C1)N2C=C(C(=N2)C3=CC=C(C=C3)[N+](=O)...\n",
      "4  137243235  402.40  C1=CC2=C(C(=C1)N=NC3=C4C=CC=NC4=C(C=C3)O)C(=CC...\n",
      "5  137243234  307.40  C1=CC=C(C=C1)/C=C/2\\\\C(=O)N/C(=N\\\\N=C\\\\C3=CC=C...\n",
      "6  137243233  418.90  C1=CC=C(C=C1)C[N+]2=CC=CC(=C2)C(=O)N/N=C/C3=C(...\n",
      "7  137243232  491.40  C1=CC=C(C=C1)C(=O)C[N+]2=CC=CC(=C2)C(=O)N/N=C/...\n",
      "8  137243231  471.30  COC1=CC=C(C=C1)C(=O)C[N+]2=CC=CC(=C2)C(=O)N/N=...\n",
      "9  137243230  322.76  C1=CC=C(C(=C1)/C=N/NC(=O)C2=CC=[N+](C=C2)CCO)O.Cl\n"
     ]
    },
    {
     "name": "stderr",
     "output_type": "stream",
     "text": [
      "\n"
     ]
    }
   ],
   "source": [
    "# Find compounds in PubChem that are likely purchasable\n",
    "# One way is to find records deposited by chemical vendors\n",
    "import pandas as pd\n",
    "compound_sigma_csv = \"compound_sigma.csv\"\n",
    "download_vendor_compounds((VendorSources[0],), saveas=compound_sigma_csv, count_limit=10)  # only download 10 entries\n",
    "df_compound_sigma = pd.read_csv('compound_sigma.csv')\n",
    "print(df_compound_sigma)"
   ],
   "metadata": {
    "collapsed": false,
    "pycharm": {
     "name": "#%%\n"
    }
   }
  },
  {
   "cell_type": "code",
   "execution_count": 3,
   "outputs": [
    {
     "name": "stdout",
     "output_type": "stream",
     "text": [
      "{'Sigma-Aldrich': 'https://www.sigmaaldrich.com/catalog/product/aldrich/r358797'}\n"
     ]
    }
   ],
   "source": [
    "# from `CID` we can get chemical vendor links stored in PubChem\n",
    "compound_id = 137243230  # pubchem CID\n",
    "vendor_links = get_vendor_links(compound_id)\n",
    "print(vendor_links)"
   ],
   "metadata": {
    "collapsed": false,
    "pycharm": {
     "name": "#%%\n"
    }
   }
  },
  {
   "cell_type": "code",
   "execution_count": 4,
   "outputs": [
    {
     "name": "stderr",
     "output_type": "stream",
     "text": [
      "2022-08-08 07:07:57.093 | INFO     | ChemScraper.vscraper.sigma_aldrich:get_sigma_aldrich_patable:47 - sigma-aldrich product url: https://www.sigmaaldrich.com/catalog/product/aldrich/r358797\n",
      "2022-08-08 07:08:00.682 | INFO     | ChemScraper.vscraper.sigma_aldrich:get_sigma_aldrich_patable:52 - page ready after: 0.008 s\n"
     ]
    },
    {
     "name": "stdout",
     "output_type": "stream",
     "text": [
      "           SKU Pack Size                                       Availability  \\\n",
      "0  R358797-5MG            Usually ships in 2 business days. (Orders outs...   \n",
      "\n",
      "    Price Quantity                                                url  \n",
      "0  $28.60           https://www.sigmaaldrich.com/catalog/product/a...  \n"
     ]
    }
   ],
   "source": [
    "# use this link we can scrape sigma-aldrich website for pricing info\n",
    "# `patable` is the table for price and availability, this may change based on your location\n",
    "from ChemScraper.vscraper.sigma_aldrich import get_chrome_driver\n",
    "browser_driver = get_chrome_driver(headless=True)\n",
    "sigma_patable = get_sigma_aldrich_patable(browser_driver, vendor_links['Sigma-Aldrich'])\n",
    "print(sigma_patable)"
   ],
   "metadata": {
    "collapsed": false,
    "pycharm": {
     "name": "#%%\n"
    }
   }
  },
  {
   "cell_type": "code",
   "execution_count": 5,
   "outputs": [
    {
     "name": "stdout",
     "output_type": "stream",
     "text": [
      "{'@module': 'ChemScraper.schema', '@class': 'Compound', '@version': None, 'cid': 3301, 'smiles': 'C(CN)N', 'inchi': 'InChI=1S/C2H8N2/c3-1-2-4/h1-4H2', 'iupac': 'ethane-1,2-diamine', 'properties': {}}\n",
      "107-15-3\n"
     ]
    }
   ],
   "source": [
    "# the problems of starting with a PubChem compound record are\n",
    "# 1. the vendor link stored there maybe outdated\n",
    "# 2. there can be different products correspond to one compound (package size, purity, etc.)\n",
    "# so it's better to start a new search directly through the vendor with a CAS number\n",
    "compound = identify_compound('C(CN)N', 'smiles')\n",
    "cas_number = get_cas_number(compound.cid)  # for uncommon chemicals without a CAS number this method returns None\n",
    "print(compound.as_dict())\n",
    "print(cas_number)"
   ],
   "metadata": {
    "collapsed": false,
    "pycharm": {
     "name": "#%%\n"
    }
   }
  },
  {
   "cell_type": "code",
   "execution_count": 6,
   "outputs": [
    {
     "name": "stderr",
     "output_type": "stream",
     "text": [
      "2022-08-08 07:08:01.755 | INFO     | ChemScraper.vscraper.sigma_aldrich:get_sigma_aldrich_patables:69 - sigma-aldrich search url: https://www.sigmaaldrich.com/US/en/search/107-15-3?focus=products&page=1&perpage=30&sort=relevance&term=107-15-3&type=cas_number\n",
      "2022-08-08 07:08:03.939 | INFO     | ChemScraper.vscraper.sigma_aldrich:get_sigma_aldrich_patables:75 - page ready after: 0.010 s\n",
      "2022-08-08 07:08:04.087 | INFO     | ChemScraper.vscraper.sigma_aldrich:get_sigma_aldrich_patable:47 - sigma-aldrich product url: https://www.sigmaaldrich.com/US/en/product/sial/e26266\n",
      "2022-08-08 07:08:07.452 | INFO     | ChemScraper.vscraper.sigma_aldrich:get_sigma_aldrich_patable:52 - page ready after: 0.026 s\n",
      "2022-08-08 07:08:08.105 | INFO     | ChemScraper.vscraper.sigma_aldrich:get_sigma_aldrich_patable:47 - sigma-aldrich product url: https://www.sigmaaldrich.com/US/en/product/sial/03550\n",
      "2022-08-08 07:08:11.199 | INFO     | ChemScraper.vscraper.sigma_aldrich:get_sigma_aldrich_patable:52 - page ready after: 0.104 s\n",
      "2022-08-08 07:08:11.733 | INFO     | ChemScraper.vscraper.sigma_aldrich:get_sigma_aldrich_patable:47 - sigma-aldrich product url: https://www.sigmaaldrich.com/US/en/product/mm/800947\n",
      "2022-08-08 07:08:15.038 | INFO     | ChemScraper.vscraper.sigma_aldrich:get_sigma_aldrich_patable:52 - page ready after: 0.025 s\n",
      "2022-08-08 07:08:15.771 | INFO     | ChemScraper.vscraper.sigma_aldrich:get_sigma_aldrich_patable:47 - sigma-aldrich product url: https://www.sigmaaldrich.com/US/en/product/aldrich/391085\n",
      "2022-08-08 07:08:18.837 | INFO     | ChemScraper.vscraper.sigma_aldrich:get_sigma_aldrich_patable:52 - page ready after: 0.026 s\n",
      "2022-08-08 07:08:19.225 | INFO     | ChemScraper.vscraper.sigma_aldrich:get_sigma_aldrich_patable:47 - sigma-aldrich product url: https://www.sigmaaldrich.com/US/en/product/sigma/e1521\n",
      "2022-08-08 07:08:22.574 | INFO     | ChemScraper.vscraper.sigma_aldrich:get_sigma_aldrich_patable:52 - page ready after: 0.022 s\n",
      "2022-08-08 07:08:23.066 | INFO     | ChemScraper.vscraper.sigma_aldrich:get_sigma_aldrich_patable:47 - sigma-aldrich product url: https://www.sigmaaldrich.com/US/en/product/sial/41008\n",
      "2022-08-08 07:08:26.004 | INFO     | ChemScraper.vscraper.sigma_aldrich:get_sigma_aldrich_patable:52 - page ready after: 0.084 s\n",
      "2022-08-08 07:08:26.498 | INFO     | ChemScraper.vscraper.sigma_aldrich:get_sigma_aldrich_patable:47 - sigma-aldrich product url: https://www.sigmaaldrich.com/US/en/product/aldrich/15068\n",
      "2022-08-08 07:08:29.807 | INFO     | ChemScraper.vscraper.sigma_aldrich:get_sigma_aldrich_patable:52 - page ready after: 0.065 s\n",
      "2022-08-08 07:08:30.414 | INFO     | ChemScraper.vscraper.sigma_aldrich:get_sigma_aldrich_patable:47 - sigma-aldrich product url: https://www.sigmaaldrich.com/US/en/product/sial/e1649\n",
      "2022-08-08 07:08:33.877 | INFO     | ChemScraper.vscraper.sigma_aldrich:get_sigma_aldrich_patable:52 - page ready after: 0.050 s\n",
      "2022-08-08 07:08:34.280 | INFO     | ChemScraper.vscraper.sigma_aldrich:get_sigma_aldrich_patable:47 - sigma-aldrich product url: https://www.sigmaaldrich.com/US/en/product/aldrich/900537\n",
      "2022-08-08 07:08:47.226 | CRITICAL | ChemScraper.vscraper.sigma_aldrich:get_sigma_aldrich_patables:85 - FAILED to extract patable: https://www.sigmaaldrich.com/US/en/product/aldrich/900537\n",
      "2022-08-08 07:08:47.226 | INFO     | ChemScraper.vscraper.sigma_aldrich:get_sigma_aldrich_patable:47 - sigma-aldrich product url: https://www.sigmaaldrich.com/US/en/product/aldrich/900537\n",
      "2022-08-08 07:09:00.332 | CRITICAL | ChemScraper.vscraper.sigma_aldrich:get_sigma_aldrich_patables:85 - FAILED to extract patable: https://www.sigmaaldrich.com/US/en/product/aldrich/900537\n",
      "2022-08-08 07:09:00.332 | INFO     | ChemScraper.vscraper.sigma_aldrich:get_sigma_aldrich_patables:90 - sigma-aldrich search returns # of products: 8\n"
     ]
    },
    {
     "name": "stdout",
     "output_type": "stream",
     "text": [
      "               SKU   Pack Size  \\\n",
      "0       E26266-5ML        5 ML   \n",
      "1     E26266-100ML      100 ML   \n",
      "2        E26266-1L         1 L   \n",
      "3      E26266-2.5L       2.5 L   \n",
      "4   E26266-4X100ML  4 X 100 ML   \n",
      "5      03550-250ML      250 ML   \n",
      "6         03550-1L         1 L   \n",
      "7       03550-2.5L       2.5 L   \n",
      "8       8009470100      100 ML   \n",
      "9       8009470500      500 ML   \n",
      "10      8009471000         1 L   \n",
      "11      8009472500       2.5 L   \n",
      "12      8009479051        50 L   \n",
      "13    391085-100ML      100 ML   \n",
      "14       391085-1L         1 L   \n",
      "15     E1521-250ML      250 ML   \n",
      "16        E1521-1L         1 L   \n",
      "17     41008-1ML-F        1 ML   \n",
      "18        15068-1L         1 L   \n",
      "19     E1649-250ML      250 ML   \n",
      "20        E1649-1L         1 L   \n",
      "\n",
      "                                         Availability      Price Quantity  \\\n",
      "0    Available to ship on August 08, 2022\\nDetails...     $36.20            \n",
      "1    Available to ship on August 08, 2022\\nDetails...     $47.70            \n",
      "2    Available to ship on August 08, 2022\\nDetails...     $60.70            \n",
      "3    Available to ship on August 08, 2022\\nDetails...    $141.00            \n",
      "4    Available to ship on August 08, 2022\\nDetails...    $147.00            \n",
      "5    Available to ship on August 08, 2022\\nDetails...     $70.70            \n",
      "6    Available to ship on August 08, 2022\\nDetails...    $143.00            \n",
      "7                Estimated to ship on August 30, 2022    $240.00            \n",
      "8                Estimated to ship on August 10, 2022     $33.70            \n",
      "9                Estimated to ship on August 10, 2022     $39.20            \n",
      "10  Only 1 left in stock (more on the way)\\nDetail...     $70.20            \n",
      "11               Estimated to ship on August 10, 2022    $129.00            \n",
      "12            Estimated to ship on September 27, 2022  $2,260.00            \n",
      "13   Available to ship on August 08, 2022\\nDetails...     $91.10            \n",
      "14  Only 1 left in stock (more on the way)\\nDetail...    $380.00            \n",
      "15              Estimated to ship on October 01, 2022     $54.40            \n",
      "16   Available to ship on August 08, 2022\\nDetails...    $119.00            \n",
      "17   Available to ship on August 08, 2022\\nDetails...     $28.30            \n",
      "18               Estimated to ship on August 30, 2022     $72.50            \n",
      "19   Available to ship on August 08, 2022\\nDetails...     $32.30            \n",
      "20             Estimated to ship on November 02, 2022     $87.90            \n",
      "\n",
      "                                                  url  \n",
      "0   https://www.sigmaaldrich.com/US/en/product/sia...  \n",
      "1   https://www.sigmaaldrich.com/US/en/product/sia...  \n",
      "2   https://www.sigmaaldrich.com/US/en/product/sia...  \n",
      "3   https://www.sigmaaldrich.com/US/en/product/sia...  \n",
      "4   https://www.sigmaaldrich.com/US/en/product/sia...  \n",
      "5   https://www.sigmaaldrich.com/US/en/product/sia...  \n",
      "6   https://www.sigmaaldrich.com/US/en/product/sia...  \n",
      "7   https://www.sigmaaldrich.com/US/en/product/sia...  \n",
      "8   https://www.sigmaaldrich.com/US/en/product/mm/...  \n",
      "9   https://www.sigmaaldrich.com/US/en/product/mm/...  \n",
      "10  https://www.sigmaaldrich.com/US/en/product/mm/...  \n",
      "11  https://www.sigmaaldrich.com/US/en/product/mm/...  \n",
      "12  https://www.sigmaaldrich.com/US/en/product/mm/...  \n",
      "13  https://www.sigmaaldrich.com/US/en/product/ald...  \n",
      "14  https://www.sigmaaldrich.com/US/en/product/ald...  \n",
      "15  https://www.sigmaaldrich.com/US/en/product/sig...  \n",
      "16  https://www.sigmaaldrich.com/US/en/product/sig...  \n",
      "17  https://www.sigmaaldrich.com/US/en/product/sia...  \n",
      "18  https://www.sigmaaldrich.com/US/en/product/ald...  \n",
      "19  https://www.sigmaaldrich.com/US/en/product/sia...  \n",
      "20  https://www.sigmaaldrich.com/US/en/product/sia...  \n"
     ]
    }
   ],
   "source": [
    "# now we can use the search page to get all available products of the same CAS,\n",
    "# then extract their prices and availabilities\n",
    "# this is wrapped in the following function\n",
    "df_pa = get_sigma_aldrich_patables(browser_driver, cas_number)\n",
    "print(df_pa)"
   ],
   "metadata": {
    "collapsed": false,
    "pycharm": {
     "name": "#%%\n"
    }
   }
  }
 ],
 "metadata": {
  "kernelspec": {
   "display_name": "Python 3",
   "language": "python",
   "name": "python3"
  },
  "language_info": {
   "codemirror_mode": {
    "name": "ipython",
    "version": 2
   },
   "file_extension": ".py",
   "mimetype": "text/x-python",
   "name": "python",
   "nbconvert_exporter": "python",
   "pygments_lexer": "ipython2",
   "version": "2.7.6"
  }
 },
 "nbformat": 4,
 "nbformat_minor": 0
}